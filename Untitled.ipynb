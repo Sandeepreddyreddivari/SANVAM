{
 "cells": [
  {
   "cell_type": "code",
   "execution_count": 11,
   "id": "d48503db-f61b-4a2e-8cfe-82fc4160101c",
   "metadata": {},
   "outputs": [
    {
     "name": "stdout",
     "output_type": "stream",
     "text": [
      "peednaS\n"
     ]
    }
   ],
   "source": [
    "str1=\"Sandeep\"\n",
    "print(str1[::-1])"
   ]
  },
  {
   "cell_type": "code",
   "execution_count": 28,
   "id": "a73c09cf-dc91-4ce0-9dcf-898ccc85b140",
   "metadata": {},
   "outputs": [
    {
     "name": "stdout",
     "output_type": "stream",
     "text": [
      "olleh\n",
      "ehllo\n"
     ]
    }
   ],
   "source": [
    "my_string = \"hello\"\n",
    "reversed_string = ''.join(reversed(my_string))\n",
    "print(reversed_string) \n",
    "\n",
    "\n",
    "sorted_string = ''.join(sorted(my_string))\n",
    "print(sorted_string)\n"
   ]
  },
  {
   "cell_type": "code",
   "execution_count": 42,
   "id": "dd4be7f4-f3cc-47b5-ab7f-6042dc259d96",
   "metadata": {},
   "outputs": [
    {
     "name": "stdout",
     "output_type": "stream",
     "text": [
      "peednas\n",
      "{'n', 'p', 'a', 's', 'd', 'e'}\n"
     ]
    }
   ],
   "source": [
    "str1 = \"sandeep\"\n",
    "str2=\"\".join(reversed(str1))\n",
    "print(str2)\n",
    "str3 = \"\".join(sorted(str1))\n",
    "print(set(str3))"
   ]
  },
  {
   "cell_type": "code",
   "execution_count": 68,
   "id": "c2b0b67c-a344-4e51-ab96-1d6902434002",
   "metadata": {},
   "outputs": [
    {
     "name": "stdout",
     "output_type": "stream",
     "text": [
      "['abc  ', 'def']\n",
      "['abc  ', 'def']\n",
      "['abc  ', 'def']\n"
     ]
    }
   ],
   "source": [
    "l1=[\"def\",\"abc  \"]\n",
    "l1.sort()\n",
    "print(l1)\n",
    "print(sorted(l1))\n",
    "print(str(l1))"
   ]
  },
  {
   "cell_type": "code",
   "execution_count": 74,
   "id": "88cf6a2c-75b4-4099-bc53-1dc20fdc8f32",
   "metadata": {},
   "outputs": [
    {
     "name": "stdout",
     "output_type": "stream",
     "text": [
      "  sandeep  \n",
      "sandeep\n"
     ]
    }
   ],
   "source": [
    "s1=\"  sandeep  \"\n",
    "print(s1)\n",
    "print(s1.strip())\n"
   ]
  },
  {
   "cell_type": "code",
   "execution_count": 90,
   "id": "b6d663f5-40f1-426e-a2c5-01ad56310548",
   "metadata": {},
   "outputs": [
    {
     "name": "stdout",
     "output_type": "stream",
     "text": [
      "[0, 1, 2, 3, 4, 5, 6, 7, 8, 9, 10, 11, 12, 13, 14, 15, 16, 17, 18, 19, 20]\n",
      "21\n"
     ]
    }
   ],
   "source": [
    "n=20\n",
    "x=[i for i in range(0,n+1)]\n",
    "print(x)\n",
    "print(len(x))"
   ]
  },
  {
   "cell_type": "code",
   "execution_count": 176,
   "id": "b77a0618-3272-4c17-8153-bc3c408861e1",
   "metadata": {},
   "outputs": [
    {
     "name": "stdout",
     "output_type": "stream",
     "text": [
      "VALUE1\n",
      "value1\n",
      "value2\n",
      "{'key4': 'vAlUe4'}\n",
      "val5\n",
      "('key3', {'key4': 'vAlUe4'})\n",
      "('key3', {'key4': 'vAlUe4'})\n",
      "('key3', {'key4': 'vAlUe4'})\n",
      "('key3', {'key4': 'vAlUe4'})\n",
      "('key3', {'key4': 'vAlUe4'})\n",
      "('key3', {'key4': 'vAlUe4'})\n",
      "('key3', {'key4': 'vAlUe4'})\n",
      "('key3', {'key4': 'vAlUe4'})\n",
      "{'key1': 'value1', 'key2': 'value2', 'key3': {'key4': 'vAlUe4'}, 'key5': 'val5'}\n"
     ]
    }
   ],
   "source": [
    "my_dict = {'key1':'value1','key2':'value2','key3':{'key4':'vAlUe4'}}\n",
    "my_dict['key5']='val5'\n",
    "print(my_dict['key1'].upper())\n",
    "my_dict['key3']['key4'].lower()\n",
    "for values in my_dict.values():\n",
    "    print(values)\n",
    "for items in my_dict.items():\n",
    "    print(key)\n",
    "for keys in my_dict.keys():\n",
    "    print(key)\n",
    "print(my_dict)"
   ]
  },
  {
   "cell_type": "code",
   "execution_count": 128,
   "id": "0fff2368-473b-4129-9542-4965a4017a9b",
   "metadata": {},
   "outputs": [
    {
     "data": {
      "text/plain": [
       "dict_values(['value1', 'value2', {'key4': 'vAlUe4'}])"
      ]
     },
     "execution_count": 128,
     "metadata": {},
     "output_type": "execute_result"
    }
   ],
   "source": [
    "my_dict = {'key1':'value1','key2':'value2','key3':{'key4':'vAlUe4'}}\n",
    "my_dict.keys()\n",
    "my_dict.values()"
   ]
  },
  {
   "cell_type": "code",
   "execution_count": 134,
   "id": "06f777de-de58-4dcc-bee7-d42388dfb7ba",
   "metadata": {},
   "outputs": [
    {
     "name": "stdout",
     "output_type": "stream",
     "text": [
      "0\n"
     ]
    }
   ],
   "source": [
    "from collections import defaultdict\n",
    "\n",
    "my_dict = defaultdict(int)\n",
    "print(my_dict['b','a'])  \n"
   ]
  },
  {
   "cell_type": "code",
   "execution_count": 140,
   "id": "b5bec2b2-3e6b-44c8-a875-3f6bbfc37694",
   "metadata": {},
   "outputs": [
    {
     "data": {
      "text/plain": [
       "1"
      ]
     },
     "execution_count": 140,
     "metadata": {},
     "output_type": "execute_result"
    }
   ],
   "source": [
    "my_dict = {'key1':[1,2,3]}\n",
    "my_dict['key1'][0]"
   ]
  },
  {
   "cell_type": "code",
   "execution_count": 148,
   "id": "d5ed461b-27d6-408d-997e-513dfac3fcb2",
   "metadata": {},
   "outputs": [
    {
     "name": "stdout",
     "output_type": "stream",
     "text": [
      "<class 'tuple'>\n",
      "<class 'list'>\n"
     ]
    }
   ],
   "source": [
    "tup=(1,2,3)\n",
    "list = [1,2,3]\n",
    "print(type(tup))\n",
    "print(type(list))"
   ]
  },
  {
   "cell_type": "code",
   "execution_count": 164,
   "id": "dc5fca69-d793-4e83-89e4-a61c7057a6fb",
   "metadata": {},
   "outputs": [
    {
     "name": "stdout",
     "output_type": "stream",
     "text": [
      "{1, 2, 3, 4, 5, 6}\n",
      "{3}\n",
      "{1, 2}\n",
      "{4, 5, 6}\n",
      "{1, 2, 4, 5, 6}\n",
      "{1, 2}\n",
      "set()\n"
     ]
    }
   ],
   "source": [
    "set1={1,2,3}\n",
    "set2={3,4,5,6}\n",
    "print(set1.union(set2))\n",
    "print(set1.intersection(set2))\n",
    "print(set1-set2)\n",
    "print(set2-set1)\n",
    "print(set1.symmetric_difference(set2))\n",
    "set1.remove(3)\n",
    "print(set1)\n",
    "set1.clear()\n",
    "print(set1)"
   ]
  },
  {
   "cell_type": "code",
   "execution_count": 168,
   "id": "26f0abf5-f7d3-42e4-a563-a8c259626178",
   "metadata": {},
   "outputs": [
    {
     "name": "stdout",
     "output_type": "stream",
     "text": [
      "<class 'bool'>\n"
     ]
    }
   ],
   "source": [
    "a=10\n",
    "b=20\n",
    "print(type(a<b))"
   ]
  },
  {
   "cell_type": "code",
   "execution_count": 178,
   "id": "29cca965-2140-4f19-9c98-e344e6c6a838",
   "metadata": {},
   "outputs": [
    {
     "name": "stdout",
     "output_type": "stream",
     "text": [
      "Writing myfile.txt\n"
     ]
    }
   ],
   "source": [
    "%%writefile myfile.txt\n",
    "Hello this is a text file\n",
    "this is second line\n",
    "this is third line\n"
   ]
  },
  {
   "cell_type": "code",
   "execution_count": 182,
   "id": "67cb3f7e-158e-4a55-b6dc-bb18a126fb42",
   "metadata": {},
   "outputs": [],
   "source": [
    "myfile = open('myfile.txt')"
   ]
  },
  {
   "cell_type": "code",
   "execution_count": 184,
   "id": "232e4b44-cadf-49f1-96db-4f1340ce2849",
   "metadata": {},
   "outputs": [
    {
     "ename": "FileNotFoundError",
     "evalue": "[Errno 2] No such file or directory: 'san.txt'",
     "output_type": "error",
     "traceback": [
      "\u001b[1;31m---------------------------------------------------------------------------\u001b[0m",
      "\u001b[1;31mFileNotFoundError\u001b[0m                         Traceback (most recent call last)",
      "Cell \u001b[1;32mIn[184], line 1\u001b[0m\n\u001b[1;32m----> 1\u001b[0m myfile \u001b[38;5;241m=\u001b[39m \u001b[38;5;28mopen\u001b[39m(\u001b[38;5;124m'\u001b[39m\u001b[38;5;124msan.txt\u001b[39m\u001b[38;5;124m'\u001b[39m)\n",
      "File \u001b[1;32mC:\\ProgramData\\anaconda3\\Lib\\site-packages\\IPython\\core\\interactiveshell.py:324\u001b[0m, in \u001b[0;36m_modified_open\u001b[1;34m(file, *args, **kwargs)\u001b[0m\n\u001b[0;32m    317\u001b[0m \u001b[38;5;28;01mif\u001b[39;00m file \u001b[38;5;129;01min\u001b[39;00m {\u001b[38;5;241m0\u001b[39m, \u001b[38;5;241m1\u001b[39m, \u001b[38;5;241m2\u001b[39m}:\n\u001b[0;32m    318\u001b[0m     \u001b[38;5;28;01mraise\u001b[39;00m \u001b[38;5;167;01mValueError\u001b[39;00m(\n\u001b[0;32m    319\u001b[0m         \u001b[38;5;124mf\u001b[39m\u001b[38;5;124m\"\u001b[39m\u001b[38;5;124mIPython won\u001b[39m\u001b[38;5;124m'\u001b[39m\u001b[38;5;124mt let you open fd=\u001b[39m\u001b[38;5;132;01m{\u001b[39;00mfile\u001b[38;5;132;01m}\u001b[39;00m\u001b[38;5;124m by default \u001b[39m\u001b[38;5;124m\"\u001b[39m\n\u001b[0;32m    320\u001b[0m         \u001b[38;5;124m\"\u001b[39m\u001b[38;5;124mas it is likely to crash IPython. If you know what you are doing, \u001b[39m\u001b[38;5;124m\"\u001b[39m\n\u001b[0;32m    321\u001b[0m         \u001b[38;5;124m\"\u001b[39m\u001b[38;5;124myou can use builtins\u001b[39m\u001b[38;5;124m'\u001b[39m\u001b[38;5;124m open.\u001b[39m\u001b[38;5;124m\"\u001b[39m\n\u001b[0;32m    322\u001b[0m     )\n\u001b[1;32m--> 324\u001b[0m \u001b[38;5;28;01mreturn\u001b[39;00m io_open(file, \u001b[38;5;241m*\u001b[39margs, \u001b[38;5;241m*\u001b[39m\u001b[38;5;241m*\u001b[39mkwargs)\n",
      "\u001b[1;31mFileNotFoundError\u001b[0m: [Errno 2] No such file or directory: 'san.txt'"
     ]
    }
   ],
   "source": [
    "myfile = open('san.txt')"
   ]
  },
  {
   "cell_type": "code",
   "execution_count": 186,
   "id": "aa26b360-857f-45b0-a627-157a6c0c9a4e",
   "metadata": {},
   "outputs": [
    {
     "data": {
      "text/plain": [
       "'C:\\\\Users\\\\SandeepReddyReddivar\\\\PYTHON COURSE'"
      ]
     },
     "execution_count": 186,
     "metadata": {},
     "output_type": "execute_result"
    }
   ],
   "source": [
    "pwd\n"
   ]
  },
  {
   "cell_type": "code",
   "execution_count": 192,
   "id": "5867ec98-660d-4b84-ae92-e6583a4461eb",
   "metadata": {},
   "outputs": [
    {
     "data": {
      "text/plain": [
       "'Hello this is a text file\\nthis is second line\\nthis is third line\\n'"
      ]
     },
     "execution_count": 192,
     "metadata": {},
     "output_type": "execute_result"
    }
   ],
   "source": [
    "myfile = open('myfile.txt')\n",
    "myfile.read()"
   ]
  },
  {
   "cell_type": "code",
   "execution_count": 190,
   "id": "93c038f4-ac04-451a-891d-1f38e70ed171",
   "metadata": {},
   "outputs": [
    {
     "data": {
      "text/plain": [
       "'Hello this is a text file\\nthis is second line\\nthis is third line\\n'"
      ]
     },
     "execution_count": 190,
     "metadata": {},
     "output_type": "execute_result"
    }
   ],
   "source": [
    "myfile.read()"
   ]
  },
  {
   "cell_type": "code",
   "execution_count": 194,
   "id": "c8740d59-b93b-4393-900e-05c17a6a54fc",
   "metadata": {},
   "outputs": [
    {
     "data": {
      "text/plain": [
       "''"
      ]
     },
     "execution_count": 194,
     "metadata": {},
     "output_type": "execute_result"
    }
   ],
   "source": [
    "myfile.read()"
   ]
  },
  {
   "cell_type": "code",
   "execution_count": 196,
   "id": "9a02a627-2beb-4d7e-aafd-56049a268ca9",
   "metadata": {},
   "outputs": [
    {
     "data": {
      "text/plain": [
       "0"
      ]
     },
     "execution_count": 196,
     "metadata": {},
     "output_type": "execute_result"
    }
   ],
   "source": [
    "myfile.seek(0)"
   ]
  },
  {
   "cell_type": "code",
   "execution_count": 198,
   "id": "2330bf7b-ff49-4252-9d06-4bebccfeb722",
   "metadata": {},
   "outputs": [
    {
     "data": {
      "text/plain": [
       "'Hello this is a text file\\nthis is second line\\nthis is third line\\n'"
      ]
     },
     "execution_count": 198,
     "metadata": {},
     "output_type": "execute_result"
    }
   ],
   "source": [
    "myfile.read()"
   ]
  },
  {
   "cell_type": "code",
   "execution_count": 200,
   "id": "dec9e830-6a43-4c8a-abf1-b759b45c39f8",
   "metadata": {},
   "outputs": [
    {
     "data": {
      "text/plain": [
       "[]"
      ]
     },
     "execution_count": 200,
     "metadata": {},
     "output_type": "execute_result"
    }
   ],
   "source": [
    "myfile.readlines()"
   ]
  },
  {
   "cell_type": "code",
   "execution_count": 202,
   "id": "c7c5fd2a-5e4a-460d-8513-98e893f7928a",
   "metadata": {},
   "outputs": [
    {
     "data": {
      "text/plain": [
       "0"
      ]
     },
     "execution_count": 202,
     "metadata": {},
     "output_type": "execute_result"
    }
   ],
   "source": [
    "myfile.seek(0)"
   ]
  },
  {
   "cell_type": "code",
   "execution_count": 204,
   "id": "58747ed9-0e32-49a1-8307-353a4be6f10d",
   "metadata": {},
   "outputs": [
    {
     "data": {
      "text/plain": [
       "['Hello this is a text file\\n',\n",
       " 'this is second line\\n',\n",
       " 'this is third line\\n']"
      ]
     },
     "execution_count": 204,
     "metadata": {},
     "output_type": "execute_result"
    }
   ],
   "source": [
    "myfile.readlines()"
   ]
  },
  {
   "cell_type": "code",
   "execution_count": 206,
   "id": "e67d8ec3-e849-4dd8-87ee-f17beaf2e5f8",
   "metadata": {},
   "outputs": [],
   "source": [
    "myfile.close()"
   ]
  },
  {
   "cell_type": "code",
   "execution_count": 212,
   "id": "00455ea2-9076-48d4-b6b5-dd48fd0ebace",
   "metadata": {},
   "outputs": [],
   "source": [
    "with open('myfile.txt') as new_myfile: \n",
    "    contents = new_myfile.read()\n"
   ]
  },
  {
   "cell_type": "code",
   "execution_count": 214,
   "id": "7dfabd7f-58b6-4bec-9c12-1b9a3365e01f",
   "metadata": {},
   "outputs": [
    {
     "data": {
      "text/plain": [
       "'Hello this is a text file\\nthis is second line\\nthis is third line\\n'"
      ]
     },
     "execution_count": 214,
     "metadata": {},
     "output_type": "execute_result"
    }
   ],
   "source": [
    "contents\n"
   ]
  },
  {
   "cell_type": "code",
   "execution_count": 216,
   "id": "1b5c17d0-9a1c-43f2-95b0-f73f14ec0f58",
   "metadata": {},
   "outputs": [
    {
     "name": "stdout",
     "output_type": "stream",
     "text": [
      "Writing san.txt\n"
     ]
    }
   ],
   "source": [
    "%%writefile san.txt\n",
    "THIS IS MY FILE OPERATIONS FIRST LINE\n",
    "THIS IS MY SECOND LINE\n",
    "THIS IS MY THIRD LINE"
   ]
  },
  {
   "cell_type": "code",
   "execution_count": 218,
   "id": "6ed0b1cf-e52d-4ca5-ac13-ca7795004b96",
   "metadata": {},
   "outputs": [],
   "source": [
    "with open('san.txt') as new_san:\n",
    "    contents = new_san.read()"
   ]
  },
  {
   "cell_type": "code",
   "execution_count": 220,
   "id": "10b8c8cc-5511-4cfb-8c11-224828087ce8",
   "metadata": {},
   "outputs": [
    {
     "data": {
      "text/plain": [
       "'THIS IS MY FILE OPERATIONS FIRST LINE\\nTHIS IS MY SECOND LINE\\nTHIS IS MY THIRD LINE\\n'"
      ]
     },
     "execution_count": 220,
     "metadata": {},
     "output_type": "execute_result"
    }
   ],
   "source": [
    "contents\n"
   ]
  },
  {
   "cell_type": "code",
   "execution_count": 226,
   "id": "f0ce1899-b0c1-4a22-8b3a-46093dba671e",
   "metadata": {},
   "outputs": [],
   "source": [
    "myfile = open('san.txt')\n"
   ]
  },
  {
   "cell_type": "code",
   "execution_count": 228,
   "id": "9e4cbdc6-77c8-4e79-85a9-882cb1fb5f46",
   "metadata": {},
   "outputs": [
    {
     "data": {
      "text/plain": [
       "['THIS IS MY FILE OPERATIONS FIRST LINE\\n',\n",
       " 'THIS IS MY SECOND LINE\\n',\n",
       " 'THIS IS MY THIRD LINE\\n']"
      ]
     },
     "execution_count": 228,
     "metadata": {},
     "output_type": "execute_result"
    }
   ],
   "source": [
    "myfile.readlines()"
   ]
  },
  {
   "cell_type": "code",
   "execution_count": 230,
   "id": "179f2fe2-d84f-4e24-be67-9f8d9dbea130",
   "metadata": {},
   "outputs": [
    {
     "data": {
      "text/plain": [
       "0"
      ]
     },
     "execution_count": 230,
     "metadata": {},
     "output_type": "execute_result"
    }
   ],
   "source": [
    "myfile.seek(0)"
   ]
  },
  {
   "cell_type": "code",
   "execution_count": 232,
   "id": "e8a42293-f44e-4d54-9688-e5482d038fe3",
   "metadata": {},
   "outputs": [
    {
     "data": {
      "text/plain": [
       "'THIS IS MY FILE OPERATIONS FIRST LINE\\nTHIS IS MY SECOND LINE\\nTHIS IS MY THIRD LINE\\n'"
      ]
     },
     "execution_count": 232,
     "metadata": {},
     "output_type": "execute_result"
    }
   ],
   "source": [
    "myfile.read()"
   ]
  },
  {
   "cell_type": "code",
   "execution_count": 234,
   "id": "bcb39990-7fe5-4f3c-bcfa-880435d5874a",
   "metadata": {},
   "outputs": [],
   "source": [
    "myfile.close()\n"
   ]
  },
  {
   "cell_type": "code",
   "execution_count": 238,
   "id": "6e162d62-614b-423a-a79e-295574f0f504",
   "metadata": {},
   "outputs": [
    {
     "ename": "UnsupportedOperation",
     "evalue": "not readable",
     "output_type": "error",
     "traceback": [
      "\u001b[1;31m---------------------------------------------------------------------------\u001b[0m",
      "\u001b[1;31mUnsupportedOperation\u001b[0m                      Traceback (most recent call last)",
      "Cell \u001b[1;32mIn[238], line 3\u001b[0m\n\u001b[0;32m      1\u001b[0m \u001b[38;5;28;01mwith\u001b[39;00m \u001b[38;5;28mopen\u001b[39m(\u001b[38;5;124m'\u001b[39m\u001b[38;5;124msan.txt\u001b[39m\u001b[38;5;124m'\u001b[39m,mode\u001b[38;5;241m=\u001b[39m\u001b[38;5;124m'\u001b[39m\u001b[38;5;124mw\u001b[39m\u001b[38;5;124m'\u001b[39m) \u001b[38;5;28;01mas\u001b[39;00m sand_file:\n\u001b[0;32m      2\u001b[0m     sand_file\u001b[38;5;241m.\u001b[39mwrite(\u001b[38;5;124m'\u001b[39m\u001b[38;5;124mTHIS IS MY FOURTH LINE\u001b[39m\u001b[38;5;124m'\u001b[39m)\n\u001b[1;32m----> 3\u001b[0m     \u001b[38;5;28mprint\u001b[39m(sand_file\u001b[38;5;241m.\u001b[39mread())\n",
      "\u001b[1;31mUnsupportedOperation\u001b[0m: not readable"
     ]
    }
   ],
   "source": [
    "with open('san.txt',mode='w') as sand_file:\n",
    "    sand_file.write('THIS IS MY FOURTH LINE')\n",
    "    print(sand_file.read())"
   ]
  },
  {
   "cell_type": "code",
   "execution_count": 240,
   "id": "2a6a52a5-95e2-4380-bb5c-357ef604611a",
   "metadata": {},
   "outputs": [
    {
     "ename": "ValueError",
     "evalue": "I/O operation on closed file.",
     "output_type": "error",
     "traceback": [
      "\u001b[1;31m---------------------------------------------------------------------------\u001b[0m",
      "\u001b[1;31mValueError\u001b[0m                                Traceback (most recent call last)",
      "Cell \u001b[1;32mIn[240], line 1\u001b[0m\n\u001b[1;32m----> 1\u001b[0m \u001b[38;5;28mprint\u001b[39m(sand_file\u001b[38;5;241m.\u001b[39mread())\n",
      "\u001b[1;31mValueError\u001b[0m: I/O operation on closed file."
     ]
    }
   ],
   "source": [
    "print(sand_file.read())"
   ]
  },
  {
   "cell_type": "code",
   "execution_count": 242,
   "id": "70b1e9b3-4eba-4ed0-8df7-2fb5dafa0e01",
   "metadata": {},
   "outputs": [
    {
     "ename": "UnsupportedOperation",
     "evalue": "not readable",
     "output_type": "error",
     "traceback": [
      "\u001b[1;31m---------------------------------------------------------------------------\u001b[0m",
      "\u001b[1;31mUnsupportedOperation\u001b[0m                      Traceback (most recent call last)",
      "Cell \u001b[1;32mIn[242], line 2\u001b[0m\n\u001b[0;32m      1\u001b[0m \u001b[38;5;28;01mwith\u001b[39;00m \u001b[38;5;28mopen\u001b[39m(\u001b[38;5;124m'\u001b[39m\u001b[38;5;124msan.txt\u001b[39m\u001b[38;5;124m'\u001b[39m,mode\u001b[38;5;241m=\u001b[39m\u001b[38;5;124m'\u001b[39m\u001b[38;5;124mw\u001b[39m\u001b[38;5;124m'\u001b[39m) \u001b[38;5;28;01mas\u001b[39;00m sand_file:\n\u001b[1;32m----> 2\u001b[0m     \u001b[38;5;28mprint\u001b[39m(sand_file\u001b[38;5;241m.\u001b[39mread())\n",
      "\u001b[1;31mUnsupportedOperation\u001b[0m: not readable"
     ]
    }
   ],
   "source": [
    "with open('san.txt',mode='w') as sand_file:\n",
    "    print(sand_file.read())"
   ]
  },
  {
   "cell_type": "code",
   "execution_count": 248,
   "id": "ed87d5b3-fde0-4e87-b1a4-e133283afe3e",
   "metadata": {},
   "outputs": [
    {
     "ename": "SyntaxError",
     "evalue": "unterminated string literal (detected at line 1) (4158269813.py, line 1)",
     "output_type": "error",
     "traceback": [
      "\u001b[1;36m  Cell \u001b[1;32mIn[248], line 1\u001b[1;36m\u001b[0m\n\u001b[1;33m    with open('san.txt',mode='rw) as sand_file:\u001b[0m\n\u001b[1;37m                             ^\u001b[0m\n\u001b[1;31mSyntaxError\u001b[0m\u001b[1;31m:\u001b[0m unterminated string literal (detected at line 1)\n"
     ]
    }
   ],
   "source": [
    "with open('san.txt',mode='rw) as sand_file:\n",
    "    sand_file.write('THIS IS MY FOURTH LINE')"
   ]
  },
  {
   "cell_type": "code",
   "execution_count": 250,
   "id": "ac3ee8ca-1445-4c16-ab5b-cefbccaab622",
   "metadata": {},
   "outputs": [],
   "source": [
    "with open('san.txt',mode='w') as sand_file:\n",
    "    sand_file.write('THIS IS MY FOURTH LINE')"
   ]
  },
  {
   "cell_type": "code",
   "execution_count": 255,
   "id": "40432542-367d-459c-aaf2-b60a150fefbc",
   "metadata": {},
   "outputs": [],
   "source": [
    "with open('san.txt',mode='r') as sand_file:\n",
    "    sand_file.read()"
   ]
  },
  {
   "cell_type": "code",
   "execution_count": 257,
   "id": "e86b8737-666e-4092-afef-8bdefca9ca1d",
   "metadata": {},
   "outputs": [],
   "source": [
    "with open('sanss.txt',mode='w') as f:\n",
    "    f.write('THIS IS MY FOURTH LINE')"
   ]
  },
  {
   "cell_type": "code",
   "execution_count": 259,
   "id": "3186560b-b16f-4818-9406-28e003492ee2",
   "metadata": {},
   "outputs": [
    {
     "ename": "UnsupportedOperation",
     "evalue": "not readable",
     "output_type": "error",
     "traceback": [
      "\u001b[1;31m---------------------------------------------------------------------------\u001b[0m",
      "\u001b[1;31mUnsupportedOperation\u001b[0m                      Traceback (most recent call last)",
      "Cell \u001b[1;32mIn[259], line 2\u001b[0m\n\u001b[0;32m      1\u001b[0m \u001b[38;5;28;01mwith\u001b[39;00m \u001b[38;5;28mopen\u001b[39m(\u001b[38;5;124m'\u001b[39m\u001b[38;5;124msanss.txt\u001b[39m\u001b[38;5;124m'\u001b[39m,mode\u001b[38;5;241m=\u001b[39m\u001b[38;5;124m'\u001b[39m\u001b[38;5;124mw\u001b[39m\u001b[38;5;124m'\u001b[39m) \u001b[38;5;28;01mas\u001b[39;00m f:\n\u001b[1;32m----> 2\u001b[0m     f\u001b[38;5;241m.\u001b[39mread()\n",
      "\u001b[1;31mUnsupportedOperation\u001b[0m: not readable"
     ]
    }
   ],
   "source": [
    "with open('sanss.txt',mode='w') as f:\n",
    "    f.read()"
   ]
  },
  {
   "cell_type": "code",
   "execution_count": 261,
   "id": "e73d1297-908b-44eb-ac14-a4e907466722",
   "metadata": {},
   "outputs": [],
   "source": [
    "with open('sanss.txt',mode='r') as f:\n",
    "    f.read()"
   ]
  },
  {
   "cell_type": "code",
   "execution_count": 265,
   "id": "022c1661-f044-41c0-8197-93c9f3554067",
   "metadata": {},
   "outputs": [
    {
     "name": "stdout",
     "output_type": "stream",
     "text": [
      "10.0\n"
     ]
    }
   ],
   "source": [
    "\n",
    "print(math.sqrt(100))"
   ]
  },
  {
   "cell_type": "code",
   "execution_count": 271,
   "id": "0d9571cc-e7b4-4f8b-98e4-f5262bf388f5",
   "metadata": {},
   "outputs": [
    {
     "name": "stdout",
     "output_type": "stream",
     "text": [
      "46.0\n",
      "<class 'float'>\n"
     ]
    }
   ],
   "source": [
    "a=4 * (6.5 + 5)\n",
    "print(a)\n",
    "print(type(a))"
   ]
  },
  {
   "cell_type": "code",
   "execution_count": 277,
   "id": "4d95314a-503a-4254-bdb5-df0bcff326b9",
   "metadata": {},
   "outputs": [
    {
     "name": "stdout",
     "output_type": "stream",
     "text": [
      "10.0\n",
      "10.0\n"
     ]
    }
   ],
   "source": [
    "a=100\n",
    "print(a**0.5)\n",
    "print(math.sqrt(a))\n"
   ]
  },
  {
   "cell_type": "code",
   "execution_count": 279,
   "id": "3eb3577f-7134-4b98-9bb5-bdefbfc78ac1",
   "metadata": {},
   "outputs": [
    {
     "name": "stdout",
     "output_type": "stream",
     "text": [
      "[1, 2, 3, 4, 5]\n"
     ]
    }
   ],
   "source": [
    "list4=[1,4,3,2,5]\n",
    "list4.sort()\n",
    "print(list4)"
   ]
  },
  {
   "cell_type": "code",
   "execution_count": 290,
   "id": "b8f400b9-5754-49ac-8d47-63ba6bd70083",
   "metadata": {},
   "outputs": [
    {
     "name": "stdout",
     "output_type": "stream",
     "text": [
      "[5, 2, 3, 4, 1]\n"
     ]
    }
   ],
   "source": [
    "\n",
    "\n",
    "\n",
    "def rev(list4):\n",
    "    for i in range(0, len(list4) // 2):\n",
    "        list4[i], list4[-(i + 1)] = list4[-(i + 1)], list4[i]\n",
    "    return list4\n",
    "\n",
    "list4 = [1, 4, 3, 2, 5]\n",
    "print(rev(list4))  \n",
    "\n"
   ]
  },
  {
   "cell_type": "code",
   "execution_count": 292,
   "id": "56fe6706-08b8-45b5-a5d9-8c7a4c7290da",
   "metadata": {},
   "outputs": [
    {
     "name": "stdout",
     "output_type": "stream",
     "text": [
      "[5, 2, 3, 4, 1]\n"
     ]
    }
   ],
   "source": [
    "\n",
    "def rev(list4):\n",
    "    for i in range(0,len(list4)//2):\n",
    "        list4[i],list4[-(i+1)] = list4[-(i+1)],list4[i]\n",
    "    return list4\n",
    "list4=[1,4,3,2,5]\n",
    "print(rev(list4))"
   ]
  },
  {
   "cell_type": "code",
   "execution_count": 300,
   "id": "59c93c76-0277-4f9f-a7e0-96c963d36244",
   "metadata": {},
   "outputs": [
    {
     "name": "stdout",
     "output_type": "stream",
     "text": [
      "dict_values(['hello'])\n"
     ]
    }
   ],
   "source": [
    "d={'simple_key':'hello'}\n",
    "print(d.values())"
   ]
  },
  {
   "cell_type": "code",
   "execution_count": 304,
   "id": "905e9508-143b-4805-8cd3-fa30f4232312",
   "metadata": {},
   "outputs": [
    {
     "data": {
      "text/plain": [
       "'hello'"
      ]
     },
     "execution_count": 304,
     "metadata": {},
     "output_type": "execute_result"
    }
   ],
   "source": [
    "d={'simple_key':'hello'}\n",
    "d['simple_key']"
   ]
  },
  {
   "cell_type": "code",
   "execution_count": 317,
   "id": "3bbe1753-f4d3-4638-a6bd-8cb0de85061a",
   "metadata": {},
   "outputs": [
    {
     "data": {
      "text/plain": [
       "'hello'"
      ]
     },
     "execution_count": 317,
     "metadata": {},
     "output_type": "execute_result"
    }
   ],
   "source": [
    "d = {'k1':{'k2':'hello'}}\n",
    "d['k1']['k2']"
   ]
  },
  {
   "cell_type": "code",
   "execution_count": 321,
   "id": "a2620785-db02-4e61-982f-75e529a5c5b7",
   "metadata": {},
   "outputs": [
    {
     "data": {
      "text/plain": [
       "'hello'"
      ]
     },
     "execution_count": 321,
     "metadata": {},
     "output_type": "execute_result"
    }
   ],
   "source": [
    "d = {'k1':[{'nest_key':['this is deep',['hello']]}]}\n",
    "d['k1'][0]['nest_key'][1][0]"
   ]
  },
  {
   "cell_type": "code",
   "execution_count": 327,
   "id": "4b4710cb-3e2c-460a-9a92-c54c5deb473e",
   "metadata": {},
   "outputs": [
    {
     "data": {
      "text/plain": [
       "'hello'"
      ]
     },
     "execution_count": 327,
     "metadata": {},
     "output_type": "execute_result"
    }
   ],
   "source": [
    "d = {'k1':[1,2,{'k2':['this is tricky',{'tough':[1,2,['hello']]}]}]}\n",
    "d['k1'][2]['k2'][1]['tough'][2][0]"
   ]
  },
  {
   "cell_type": "code",
   "execution_count": 331,
   "id": "638efda4-bd74-4b53-ad30-56c8dc579f71",
   "metadata": {},
   "outputs": [
    {
     "name": "stdout",
     "output_type": "stream",
     "text": [
      "2\n"
     ]
    }
   ],
   "source": [
    "str=\"sandeep\"\n",
    "str1=set(str)\n",
    "vowels=\"AEIOUaeiou\"\n",
    "count=0\n",
    "for i in str1:\n",
    "    if i in vowels:\n",
    "        count+=1\n",
    "print(count)"
   ]
  },
  {
   "cell_type": "code",
   "execution_count": 333,
   "id": "c3e8ff9a-c667-49a2-80f5-8d5dc027bffa",
   "metadata": {},
   "outputs": [
    {
     "name": "stdout",
     "output_type": "stream",
     "text": [
      "peednaS\n"
     ]
    }
   ],
   "source": [
    "def rev(str):\n",
    "    stack=[]\n",
    "    for i in str:\n",
    "        stack.append(i)\n",
    "    rev_str=\"\"\n",
    "    while stack:\n",
    "        rev_str+=stack.pop()\n",
    "    return rev_str\n",
    "str=\"Sandeep\"\n",
    "print(rev(str))"
   ]
  },
  {
   "cell_type": "code",
   "execution_count": 339,
   "id": "5b7fde14-bdb5-4013-a509-d00fd540b786",
   "metadata": {},
   "outputs": [
    {
     "name": "stdout",
     "output_type": "stream",
     "text": [
      "malayalam\n",
      "palindrome\n"
     ]
    }
   ],
   "source": [
    "def pal(str):\n",
    "    return str[::-1]\n",
    "str=\"malayalam\"\n",
    "str2=pal(str)\n",
    "print(str2)\n",
    "if (str==str2):\n",
    "    print(\"palindrome\")\n",
    "else:\n",
    "    print(\"not palindrome\")"
   ]
  },
  {
   "cell_type": "code",
   "execution_count": null,
   "id": "119dfd44-1af6-4998-b5c4-6f8e2020226e",
   "metadata": {},
   "outputs": [],
   "source": [
    "n = 141\n",
    "temp = n\n",
    "sum = 0\n",
    "while temp > 0:\n",
    "    rev = temp % 10\n",
    "    sum = (sum * 10) +  rev\n",
    "    rem = temp // 10\n",
    "if sum == n:\n",
    "    print(\"palindrome\")\n",
    "else:\n",
    "    print(\"not palindrome\")"
   ]
  },
  {
   "cell_type": "code",
   "execution_count": null,
   "id": "1d3b48ee-7f46-42df-8201-192ae895581a",
   "metadata": {},
   "outputs": [],
   "source": [
    "n = 141\n",
    "temp = n\n",
    "sum = 0\n",
    "while temp > 0:\n",
    "    rev = temp % 10\n",
    "    sum = (sum * 10) + rev\n",
    "    temp = temp // 10\n",
    "if sum == n:\n",
    "    print(\"palindrome\")\n",
    "else:\n",
    "    print(\"not palindrome\")\n"
   ]
  },
  {
   "cell_type": "code",
   "execution_count": null,
   "id": "c05ec07f-5e2a-4b31-9410-c988f1fbbd88",
   "metadata": {},
   "outputs": [],
   "source": [
    "from collections import Counter\n",
    "def freq(str):\n",
    "    counter = Counter(str)\n",
    "    most = counter.most_common(1)[0][0]\n",
    "    return most\n",
    "str=\"example\"\n",
    "result=most(str)\n",
    "print(f\"the most frequent character is:{result}\")"
   ]
  },
  {
   "cell_type": "code",
   "execution_count": null,
   "id": "5884c163-cf88-45c5-8d03-cb2c6503ec8b",
   "metadata": {},
   "outputs": [],
   "source": [
    "def remove(string):\n",
    "    char = []\n",
    "    seen = set()\n",
    "    for i in string:\n",
    "        if i not in seen:\n",
    "            char.append(i)\n",
    "            seen.add(i)\n",
    "    return \" \".join(char)\n",
    "string = \"programming\"\n",
    "res = remove(string)\n",
    "print(res)\n",
    "        "
   ]
  },
  {
   "cell_type": "code",
   "execution_count": null,
   "id": "a15bb931-1d24-4828-932e-b9952ee113e6",
   "metadata": {},
   "outputs": [],
   "source": [
    "%%writefile san.txt\n",
    "THIS IS MY FILE OPERATIONS FIRST LINE\n",
    "THIS IS MY SECOND LINE\n",
    "THIS IS MY THIRD LINE"
   ]
  },
  {
   "cell_type": "code",
   "execution_count": null,
   "id": "e418a64b-2ade-4a00-be7d-546939e350d4",
   "metadata": {},
   "outputs": [],
   "source": [
    "50+50"
   ]
  },
  {
   "cell_type": "code",
   "execution_count": null,
   "id": "bc650715-8d39-477e-823d-28ef1e927736",
   "metadata": {},
   "outputs": [],
   "source": []
  }
 ],
 "metadata": {
  "kernelspec": {
   "display_name": "Python 3 (ipykernel)",
   "language": "python",
   "name": "python3"
  },
  "language_info": {
   "codemirror_mode": {
    "name": "ipython",
    "version": 3
   },
   "file_extension": ".py",
   "mimetype": "text/x-python",
   "name": "python",
   "nbconvert_exporter": "python",
   "pygments_lexer": "ipython3",
   "version": "3.12.7"
  }
 },
 "nbformat": 4,
 "nbformat_minor": 5
}
